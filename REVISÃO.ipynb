{
 "cells": [
  {
   "cell_type": "markdown",
   "id": "4177a39e",
   "metadata": {},
   "source": [
    "# Revisão ScikitLearn"
   ]
  },
  {
   "cell_type": "code",
   "execution_count": 4,
   "id": "91d4a755",
   "metadata": {},
   "outputs": [
    {
     "data": {
      "text/html": [
       "<div>\n",
       "<style scoped>\n",
       "    .dataframe tbody tr th:only-of-type {\n",
       "        vertical-align: middle;\n",
       "    }\n",
       "\n",
       "    .dataframe tbody tr th {\n",
       "        vertical-align: top;\n",
       "    }\n",
       "\n",
       "    .dataframe thead th {\n",
       "        text-align: right;\n",
       "    }\n",
       "</style>\n",
       "<table border=\"1\" class=\"dataframe\">\n",
       "  <thead>\n",
       "    <tr style=\"text-align: right;\">\n",
       "      <th></th>\n",
       "      <th>Age</th>\n",
       "      <th>Sex</th>\n",
       "      <th>Job</th>\n",
       "      <th>Housing</th>\n",
       "      <th>Saving accounts</th>\n",
       "      <th>Checking account</th>\n",
       "      <th>Credit amount</th>\n",
       "      <th>Duration</th>\n",
       "      <th>Purpose</th>\n",
       "      <th>Risk</th>\n",
       "    </tr>\n",
       "  </thead>\n",
       "  <tbody>\n",
       "    <tr>\n",
       "      <th>0</th>\n",
       "      <td>67</td>\n",
       "      <td>male</td>\n",
       "      <td>2</td>\n",
       "      <td>own</td>\n",
       "      <td>NaN</td>\n",
       "      <td>little</td>\n",
       "      <td>1169</td>\n",
       "      <td>6</td>\n",
       "      <td>radio/TV</td>\n",
       "      <td>good</td>\n",
       "    </tr>\n",
       "    <tr>\n",
       "      <th>1</th>\n",
       "      <td>22</td>\n",
       "      <td>female</td>\n",
       "      <td>2</td>\n",
       "      <td>own</td>\n",
       "      <td>little</td>\n",
       "      <td>moderate</td>\n",
       "      <td>5951</td>\n",
       "      <td>48</td>\n",
       "      <td>radio/TV</td>\n",
       "      <td>bad</td>\n",
       "    </tr>\n",
       "    <tr>\n",
       "      <th>2</th>\n",
       "      <td>49</td>\n",
       "      <td>male</td>\n",
       "      <td>1</td>\n",
       "      <td>own</td>\n",
       "      <td>little</td>\n",
       "      <td>NaN</td>\n",
       "      <td>2096</td>\n",
       "      <td>12</td>\n",
       "      <td>education</td>\n",
       "      <td>good</td>\n",
       "    </tr>\n",
       "    <tr>\n",
       "      <th>3</th>\n",
       "      <td>45</td>\n",
       "      <td>male</td>\n",
       "      <td>2</td>\n",
       "      <td>free</td>\n",
       "      <td>little</td>\n",
       "      <td>little</td>\n",
       "      <td>7882</td>\n",
       "      <td>42</td>\n",
       "      <td>furniture/equipment</td>\n",
       "      <td>good</td>\n",
       "    </tr>\n",
       "    <tr>\n",
       "      <th>4</th>\n",
       "      <td>53</td>\n",
       "      <td>male</td>\n",
       "      <td>2</td>\n",
       "      <td>free</td>\n",
       "      <td>little</td>\n",
       "      <td>little</td>\n",
       "      <td>4870</td>\n",
       "      <td>24</td>\n",
       "      <td>car</td>\n",
       "      <td>bad</td>\n",
       "    </tr>\n",
       "  </tbody>\n",
       "</table>\n",
       "</div>"
      ],
      "text/plain": [
       "   Age     Sex  Job Housing Saving accounts Checking account  Credit amount  \\\n",
       "0   67    male    2     own             NaN           little           1169   \n",
       "1   22  female    2     own          little         moderate           5951   \n",
       "2   49    male    1     own          little              NaN           2096   \n",
       "3   45    male    2    free          little           little           7882   \n",
       "4   53    male    2    free          little           little           4870   \n",
       "\n",
       "   Duration              Purpose  Risk  \n",
       "0         6             radio/TV  good  \n",
       "1        48             radio/TV   bad  \n",
       "2        12            education  good  \n",
       "3        42  furniture/equipment  good  \n",
       "4        24                  car   bad  "
      ]
     },
     "execution_count": 4,
     "metadata": {},
     "output_type": "execute_result"
    }
   ],
   "source": [
    "import pandas as pd\n",
    "\n",
    "df = pd.read_csv('german_credit_data.csv').drop('id', axis=1)\n",
    "df.head()"
   ]
  },
  {
   "cell_type": "markdown",
   "id": "13295920",
   "metadata": {},
   "source": [
    "## Este conjunto de dados é resultado de dados de várias mulheres e indica se um tumor é benigmo ou maligno"
   ]
  },
  {
   "cell_type": "markdown",
   "id": "1b22f12a",
   "metadata": {},
   "source": [
    "## Inicialmente, vamos separar nossos dados de entrada na variável X e dados de saída na variável y"
   ]
  },
  {
   "cell_type": "code",
   "execution_count": 6,
   "id": "3a659aca",
   "metadata": {},
   "outputs": [
    {
     "data": {
      "text/plain": [
       "0      good\n",
       "1       bad\n",
       "2      good\n",
       "3      good\n",
       "4       bad\n",
       "       ... \n",
       "995    good\n",
       "996    good\n",
       "997    good\n",
       "998     bad\n",
       "999    good\n",
       "Name: Risk, Length: 1000, dtype: object"
      ]
     },
     "execution_count": 6,
     "metadata": {},
     "output_type": "execute_result"
    }
   ],
   "source": [
    "X = df.drop('Risk', axis=1)\n",
    "y = df['Risk']"
   ]
  },
  {
   "cell_type": "markdown",
   "id": "006c276e",
   "metadata": {},
   "source": [
    "## Antes de treinar nosso classificador, temos que fazer o pré-processamento dos dados. \n",
    "## Primeiro, vamos eliminar as linhas que contém dados nulos."
   ]
  },
  {
   "cell_type": "code",
   "execution_count": 7,
   "id": "de02977a",
   "metadata": {},
   "outputs": [
    {
     "data": {
      "text/html": [
       "<div>\n",
       "<style scoped>\n",
       "    .dataframe tbody tr th:only-of-type {\n",
       "        vertical-align: middle;\n",
       "    }\n",
       "\n",
       "    .dataframe tbody tr th {\n",
       "        vertical-align: top;\n",
       "    }\n",
       "\n",
       "    .dataframe thead th {\n",
       "        text-align: right;\n",
       "    }\n",
       "</style>\n",
       "<table border=\"1\" class=\"dataframe\">\n",
       "  <thead>\n",
       "    <tr style=\"text-align: right;\">\n",
       "      <th></th>\n",
       "      <th>Age</th>\n",
       "      <th>Sex</th>\n",
       "      <th>Job</th>\n",
       "      <th>Housing</th>\n",
       "      <th>Saving accounts</th>\n",
       "      <th>Checking account</th>\n",
       "      <th>Credit amount</th>\n",
       "      <th>Duration</th>\n",
       "      <th>Purpose</th>\n",
       "      <th>Risk</th>\n",
       "    </tr>\n",
       "  </thead>\n",
       "  <tbody>\n",
       "    <tr>\n",
       "      <th>1</th>\n",
       "      <td>22</td>\n",
       "      <td>female</td>\n",
       "      <td>2</td>\n",
       "      <td>own</td>\n",
       "      <td>little</td>\n",
       "      <td>moderate</td>\n",
       "      <td>5951</td>\n",
       "      <td>48</td>\n",
       "      <td>radio/TV</td>\n",
       "      <td>bad</td>\n",
       "    </tr>\n",
       "    <tr>\n",
       "      <th>3</th>\n",
       "      <td>45</td>\n",
       "      <td>male</td>\n",
       "      <td>2</td>\n",
       "      <td>free</td>\n",
       "      <td>little</td>\n",
       "      <td>little</td>\n",
       "      <td>7882</td>\n",
       "      <td>42</td>\n",
       "      <td>furniture/equipment</td>\n",
       "      <td>good</td>\n",
       "    </tr>\n",
       "    <tr>\n",
       "      <th>4</th>\n",
       "      <td>53</td>\n",
       "      <td>male</td>\n",
       "      <td>2</td>\n",
       "      <td>free</td>\n",
       "      <td>little</td>\n",
       "      <td>little</td>\n",
       "      <td>4870</td>\n",
       "      <td>24</td>\n",
       "      <td>car</td>\n",
       "      <td>bad</td>\n",
       "    </tr>\n",
       "    <tr>\n",
       "      <th>7</th>\n",
       "      <td>35</td>\n",
       "      <td>male</td>\n",
       "      <td>3</td>\n",
       "      <td>rent</td>\n",
       "      <td>little</td>\n",
       "      <td>moderate</td>\n",
       "      <td>6948</td>\n",
       "      <td>36</td>\n",
       "      <td>car</td>\n",
       "      <td>good</td>\n",
       "    </tr>\n",
       "    <tr>\n",
       "      <th>9</th>\n",
       "      <td>28</td>\n",
       "      <td>male</td>\n",
       "      <td>3</td>\n",
       "      <td>own</td>\n",
       "      <td>little</td>\n",
       "      <td>moderate</td>\n",
       "      <td>5234</td>\n",
       "      <td>30</td>\n",
       "      <td>car</td>\n",
       "      <td>bad</td>\n",
       "    </tr>\n",
       "    <tr>\n",
       "      <th>...</th>\n",
       "      <td>...</td>\n",
       "      <td>...</td>\n",
       "      <td>...</td>\n",
       "      <td>...</td>\n",
       "      <td>...</td>\n",
       "      <td>...</td>\n",
       "      <td>...</td>\n",
       "      <td>...</td>\n",
       "      <td>...</td>\n",
       "      <td>...</td>\n",
       "    </tr>\n",
       "    <tr>\n",
       "      <th>989</th>\n",
       "      <td>48</td>\n",
       "      <td>male</td>\n",
       "      <td>1</td>\n",
       "      <td>own</td>\n",
       "      <td>little</td>\n",
       "      <td>moderate</td>\n",
       "      <td>1743</td>\n",
       "      <td>24</td>\n",
       "      <td>radio/TV</td>\n",
       "      <td>good</td>\n",
       "    </tr>\n",
       "    <tr>\n",
       "      <th>993</th>\n",
       "      <td>30</td>\n",
       "      <td>male</td>\n",
       "      <td>3</td>\n",
       "      <td>own</td>\n",
       "      <td>little</td>\n",
       "      <td>little</td>\n",
       "      <td>3959</td>\n",
       "      <td>36</td>\n",
       "      <td>furniture/equipment</td>\n",
       "      <td>good</td>\n",
       "    </tr>\n",
       "    <tr>\n",
       "      <th>996</th>\n",
       "      <td>40</td>\n",
       "      <td>male</td>\n",
       "      <td>3</td>\n",
       "      <td>own</td>\n",
       "      <td>little</td>\n",
       "      <td>little</td>\n",
       "      <td>3857</td>\n",
       "      <td>30</td>\n",
       "      <td>car</td>\n",
       "      <td>good</td>\n",
       "    </tr>\n",
       "    <tr>\n",
       "      <th>998</th>\n",
       "      <td>23</td>\n",
       "      <td>male</td>\n",
       "      <td>2</td>\n",
       "      <td>free</td>\n",
       "      <td>little</td>\n",
       "      <td>little</td>\n",
       "      <td>1845</td>\n",
       "      <td>45</td>\n",
       "      <td>radio/TV</td>\n",
       "      <td>bad</td>\n",
       "    </tr>\n",
       "    <tr>\n",
       "      <th>999</th>\n",
       "      <td>27</td>\n",
       "      <td>male</td>\n",
       "      <td>2</td>\n",
       "      <td>own</td>\n",
       "      <td>moderate</td>\n",
       "      <td>moderate</td>\n",
       "      <td>4576</td>\n",
       "      <td>45</td>\n",
       "      <td>car</td>\n",
       "      <td>good</td>\n",
       "    </tr>\n",
       "  </tbody>\n",
       "</table>\n",
       "<p>522 rows × 10 columns</p>\n",
       "</div>"
      ],
      "text/plain": [
       "     Age     Sex  Job Housing Saving accounts Checking account  Credit amount  \\\n",
       "1     22  female    2     own          little         moderate           5951   \n",
       "3     45    male    2    free          little           little           7882   \n",
       "4     53    male    2    free          little           little           4870   \n",
       "7     35    male    3    rent          little         moderate           6948   \n",
       "9     28    male    3     own          little         moderate           5234   \n",
       "..   ...     ...  ...     ...             ...              ...            ...   \n",
       "989   48    male    1     own          little         moderate           1743   \n",
       "993   30    male    3     own          little           little           3959   \n",
       "996   40    male    3     own          little           little           3857   \n",
       "998   23    male    2    free          little           little           1845   \n",
       "999   27    male    2     own        moderate         moderate           4576   \n",
       "\n",
       "     Duration              Purpose  Risk  \n",
       "1          48             radio/TV   bad  \n",
       "3          42  furniture/equipment  good  \n",
       "4          24                  car   bad  \n",
       "7          36                  car  good  \n",
       "9          30                  car   bad  \n",
       "..        ...                  ...   ...  \n",
       "989        24             radio/TV  good  \n",
       "993        36  furniture/equipment  good  \n",
       "996        30                  car  good  \n",
       "998        45             radio/TV   bad  \n",
       "999        45                  car  good  \n",
       "\n",
       "[522 rows x 10 columns]"
      ]
     },
     "execution_count": 7,
     "metadata": {},
     "output_type": "execute_result"
    }
   ],
   "source": [
    "df.dropna()"
   ]
  },
  {
   "cell_type": "markdown",
   "id": "5999973d",
   "metadata": {},
   "source": [
    "## Agora, vamos reunir numa nova variável somente as colunas que possuem dados do tipo numérico, e vamos deixar todos estes dados na mesma escala usando a classe MinMaxScaler()"
   ]
  },
  {
   "cell_type": "code",
   "execution_count": 13,
   "id": "42c12d19",
   "metadata": {},
   "outputs": [
    {
     "data": {
      "text/plain": [
       "array([[0.85714286, 0.66666667, 0.05056674, 0.02941176],\n",
       "       [0.05357143, 0.66666667, 0.31368989, 0.64705882],\n",
       "       [0.53571429, 0.33333333, 0.10157368, 0.11764706],\n",
       "       ...,\n",
       "       [0.33928571, 0.66666667, 0.03048311, 0.11764706],\n",
       "       [0.07142857, 0.66666667, 0.08776274, 0.60294118],\n",
       "       [0.14285714, 0.66666667, 0.23803235, 0.60294118]])"
      ]
     },
     "execution_count": 13,
     "metadata": {},
     "output_type": "execute_result"
    }
   ],
   "source": [
    "from sklearn.preprocessing import MinMaxScaler\n",
    "\n",
    "X_num = df.select_dtypes(exclude='object')\n",
    "minmax = MinMaxScaler()\n",
    "X_num = minmax.fit_transform(X_num)\n",
    "X_num"
   ]
  },
  {
   "cell_type": "markdown",
   "id": "e8a4d19f",
   "metadata": {},
   "source": [
    "## Funções usadas\n",
    "\n",
    "- select_dtypes() : retorna todas as colunas que tipo que você específica, ou elimina todas as colunas do tipo que você especifíca\n",
    "- fit_transform() : usada para dimensionar conjuntos de dados através de uma ferramenta de pre-processamento, então podemos usá-la com MinMaxScaler, com OneHotEncoder, etc."
   ]
  },
  {
   "cell_type": "markdown",
   "id": "17bb74f9",
   "metadata": {},
   "source": [
    "## Agora, faremos o préprocessamento dos dados do tipo 'object' usando a classe OneHotEncoder"
   ]
  },
  {
   "cell_type": "code",
   "execution_count": 15,
   "id": "d9ae2b0d",
   "metadata": {},
   "outputs": [
    {
     "data": {
      "text/plain": [
       "array([[1., 1., 0., ..., 1., 0., 0.],\n",
       "       [0., 1., 0., ..., 1., 0., 0.],\n",
       "       [1., 1., 0., ..., 0., 0., 0.],\n",
       "       ...,\n",
       "       [1., 1., 0., ..., 1., 0., 0.],\n",
       "       [1., 0., 0., ..., 1., 0., 0.],\n",
       "       [1., 1., 0., ..., 0., 0., 0.]])"
      ]
     },
     "execution_count": 15,
     "metadata": {},
     "output_type": "execute_result"
    }
   ],
   "source": [
    "from sklearn.preprocessing import OneHotEncoder\n",
    "\n",
    "X_cat = X.select_dtypes(include='object')\n",
    "onehot = OneHotEncoder(sparse=False, drop='first')\n",
    "X_cat = onehot.fit_transform(X_cat)\n",
    "X_cat"
   ]
  },
  {
   "cell_type": "markdown",
   "id": "9958852d",
   "metadata": {},
   "source": [
    "## Agora que já tratamos os dois tipos de dados presentes em nosso conjunto de dados, vamos juntar ambas as matrizes numa só, usando a função 'append' da biblioteca Numpy"
   ]
  },
  {
   "cell_type": "code",
   "execution_count": 18,
   "id": "53a7d10d",
   "metadata": {},
   "outputs": [
    {
     "data": {
      "text/plain": [
       "array([[0.85714286, 0.66666667, 0.05056674, ..., 1.        , 0.        ,\n",
       "        0.        ],\n",
       "       [0.05357143, 0.66666667, 0.31368989, ..., 1.        , 0.        ,\n",
       "        0.        ],\n",
       "       [0.53571429, 0.33333333, 0.10157368, ..., 0.        , 0.        ,\n",
       "        0.        ],\n",
       "       ...,\n",
       "       [0.33928571, 0.66666667, 0.03048311, ..., 1.        , 0.        ,\n",
       "        0.        ],\n",
       "       [0.07142857, 0.66666667, 0.08776274, ..., 1.        , 0.        ,\n",
       "        0.        ],\n",
       "       [0.14285714, 0.66666667, 0.23803235, ..., 0.        , 0.        ,\n",
       "        0.        ]])"
      ]
     },
     "execution_count": 18,
     "metadata": {},
     "output_type": "execute_result"
    }
   ],
   "source": [
    "import numpy as np\n",
    "\n",
    "X_all = np.append(X_num, X_cat, axis=1)\n",
    "X_all"
   ]
  },
  {
   "cell_type": "markdown",
   "id": "2cb45ce9",
   "metadata": {},
   "source": [
    "## Agora, usaremos a função 'train_test_split', que divide aleatoriamente nossos dados num conjunto de treinamento e num conjunto de testes"
   ]
  },
  {
   "cell_type": "code",
   "execution_count": 20,
   "id": "45a219b5",
   "metadata": {},
   "outputs": [],
   "source": [
    "from sklearn.model_selection import train_test_split\n",
    "\n",
    "X_train, X_test, y_train, y_test = train_test_split(X_all, y, train_size = 2/3, random_state=1)"
   ]
  },
  {
   "cell_type": "markdown",
   "id": "dcf993ef",
   "metadata": {},
   "source": [
    "## Com o préprocessamento realizado, já temos nossos dados preparados e separados entre teste e treinamento, então, faremos três classificadores diferentes, usando os algoritmos SVM, KNeighbors e DecisionTree"
   ]
  },
  {
   "cell_type": "code",
   "execution_count": 21,
   "id": "6e13b792",
   "metadata": {},
   "outputs": [
    {
     "data": {
      "text/plain": [
       "0.7634730538922155"
      ]
     },
     "execution_count": 21,
     "metadata": {},
     "output_type": "execute_result"
    }
   ],
   "source": [
    "from sklearn.svm import SVC\n",
    "from sklearn.metrics import accuracy_score\n",
    "\n",
    "svc = SVC()\n",
    "svc.fit(X_train, y_train)\n",
    "accuracy_score(y_test, svc.predict(X_test))"
   ]
  },
  {
   "cell_type": "markdown",
   "id": "466f3503",
   "metadata": {},
   "source": [
    "## Algoritmo SVM\n",
    "### O SVM é um algoritmo de aprendizado supervisionado linear, que é utilizado na classificação de um conjunto de pontos onde busca uma linha de separação entre duas classes distintas, o SVM escolhe a reta entre eles — também chamada de hiperplano em maiores dimensões."
   ]
  },
  {
   "cell_type": "code",
   "execution_count": 31,
   "id": "a752a0a7",
   "metadata": {},
   "outputs": [
    {
     "data": {
      "text/plain": [
       "0.7065868263473054"
      ]
     },
     "execution_count": 31,
     "metadata": {},
     "output_type": "execute_result"
    }
   ],
   "source": [
    "from sklearn.neighbors import KNeighborsClassifier\n",
    "\n",
    "knn = KNeighborsClassifier(n_neighbors=3)\n",
    "knn.fit(X_train, y_train)\n",
    "accuracy_score(y_test, knn.predict(X_test))"
   ]
  },
  {
   "cell_type": "markdown",
   "id": "258fc656",
   "metadata": {},
   "source": [
    "## Algoritmo K-nearest neighbors\n",
    "\n",
    "### O KNN tenta classificar cada amostra de um conjunto de dados avaliando sua distância em relação aos vizinhos mais próximos. Se os vizinhos mais próximos forem majoritariamente de uma classe, a amostra em questão será classificada nesta categoria."
   ]
  },
  {
   "cell_type": "code",
   "execution_count": 32,
   "id": "90df83dc",
   "metadata": {},
   "outputs": [
    {
     "data": {
      "text/plain": [
       "0.655688622754491"
      ]
     },
     "execution_count": 32,
     "metadata": {},
     "output_type": "execute_result"
    }
   ],
   "source": [
    "from sklearn.tree import DecisionTreeClassifier\n",
    "\n",
    "dt = DecisionTreeClassifier(max_depth=None, max_leaf_nodes=None)\n",
    "dt.fit(X_train, y_train)\n",
    "accuracy_score(y_test, dt.predict(X_test))"
   ]
  },
  {
   "cell_type": "markdown",
   "id": "08281a34",
   "metadata": {},
   "source": [
    "## Decision Tree\n",
    "\n",
    "### Para cada pergunta da árvore vamos responder “SIM” ou “NÃO”. Essas respostas vão nos guiar até a decisão final.\n",
    "\n",
    "### Parâmetros da classe DecisionTreeClassifier usados: max_depth : altura da arvore, max_leaf_nodes : quantidade de nós"
   ]
  },
  {
   "cell_type": "code",
   "execution_count": 33,
   "id": "01d50ae0",
   "metadata": {},
   "outputs": [],
   "source": [
    "## Agora, vamos supor que temos 2 dados novos e queremos saber qual é a classificação deles.\n",
    "## Primeiro, podemos fazer um dataframe pandas com os novos dados."
   ]
  },
  {
   "cell_type": "code",
   "execution_count": null,
   "id": "d64fb4be",
   "metadata": {},
   "outputs": [],
   "source": []
  }
 ],
 "metadata": {
  "kernelspec": {
   "display_name": "Python 3 (ipykernel)",
   "language": "python",
   "name": "python3"
  },
  "language_info": {
   "codemirror_mode": {
    "name": "ipython",
    "version": 3
   },
   "file_extension": ".py",
   "mimetype": "text/x-python",
   "name": "python",
   "nbconvert_exporter": "python",
   "pygments_lexer": "ipython3",
   "version": "3.9.7"
  }
 },
 "nbformat": 4,
 "nbformat_minor": 5
}
