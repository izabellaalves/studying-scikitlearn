{
 "cells": [
  {
   "cell_type": "code",
   "execution_count": 7,
   "id": "6b8b42f4",
   "metadata": {},
   "outputs": [
    {
     "data": {
      "text/html": [
       "<div>\n",
       "<style scoped>\n",
       "    .dataframe tbody tr th:only-of-type {\n",
       "        vertical-align: middle;\n",
       "    }\n",
       "\n",
       "    .dataframe tbody tr th {\n",
       "        vertical-align: top;\n",
       "    }\n",
       "\n",
       "    .dataframe thead th {\n",
       "        text-align: right;\n",
       "    }\n",
       "</style>\n",
       "<table border=\"1\" class=\"dataframe\">\n",
       "  <thead>\n",
       "    <tr style=\"text-align: right;\">\n",
       "      <th></th>\n",
       "      <th>idade</th>\n",
       "      <th>conta_corrente</th>\n",
       "      <th>risco</th>\n",
       "    </tr>\n",
       "  </thead>\n",
       "  <tbody>\n",
       "    <tr>\n",
       "      <th>0</th>\n",
       "      <td>21.257389</td>\n",
       "      <td>783.127911</td>\n",
       "      <td>ruim</td>\n",
       "    </tr>\n",
       "    <tr>\n",
       "      <th>1</th>\n",
       "      <td>21.766573</td>\n",
       "      <td>979.747521</td>\n",
       "      <td>bom</td>\n",
       "    </tr>\n",
       "    <tr>\n",
       "      <th>2</th>\n",
       "      <td>25.321033</td>\n",
       "      <td>1065.328054</td>\n",
       "      <td>ruim</td>\n",
       "    </tr>\n",
       "    <tr>\n",
       "      <th>3</th>\n",
       "      <td>23.919268</td>\n",
       "      <td>1195.758078</td>\n",
       "      <td>bom</td>\n",
       "    </tr>\n",
       "    <tr>\n",
       "      <th>4</th>\n",
       "      <td>21.805298</td>\n",
       "      <td>1083.764450</td>\n",
       "      <td>bom</td>\n",
       "    </tr>\n",
       "    <tr>\n",
       "      <th>...</th>\n",
       "      <td>...</td>\n",
       "      <td>...</td>\n",
       "      <td>...</td>\n",
       "    </tr>\n",
       "    <tr>\n",
       "      <th>2495</th>\n",
       "      <td>63.840703</td>\n",
       "      <td>2847.204903</td>\n",
       "      <td>ruim</td>\n",
       "    </tr>\n",
       "    <tr>\n",
       "      <th>2496</th>\n",
       "      <td>57.367341</td>\n",
       "      <td>3238.149058</td>\n",
       "      <td>bom</td>\n",
       "    </tr>\n",
       "    <tr>\n",
       "      <th>2497</th>\n",
       "      <td>65.785408</td>\n",
       "      <td>2603.620751</td>\n",
       "      <td>ruim</td>\n",
       "    </tr>\n",
       "    <tr>\n",
       "      <th>2498</th>\n",
       "      <td>52.944838</td>\n",
       "      <td>2985.948214</td>\n",
       "      <td>ruim</td>\n",
       "    </tr>\n",
       "    <tr>\n",
       "      <th>2499</th>\n",
       "      <td>52.426936</td>\n",
       "      <td>3673.193947</td>\n",
       "      <td>bom</td>\n",
       "    </tr>\n",
       "  </tbody>\n",
       "</table>\n",
       "<p>2500 rows × 3 columns</p>\n",
       "</div>"
      ],
      "text/plain": [
       "          idade  conta_corrente risco\n",
       "0     21.257389      783.127911  ruim\n",
       "1     21.766573      979.747521   bom\n",
       "2     25.321033     1065.328054  ruim\n",
       "3     23.919268     1195.758078   bom\n",
       "4     21.805298     1083.764450   bom\n",
       "...         ...             ...   ...\n",
       "2495  63.840703     2847.204903  ruim\n",
       "2496  57.367341     3238.149058   bom\n",
       "2497  65.785408     2603.620751  ruim\n",
       "2498  52.944838     2985.948214  ruim\n",
       "2499  52.426936     3673.193947   bom\n",
       "\n",
       "[2500 rows x 3 columns]"
      ]
     },
     "execution_count": 7,
     "metadata": {},
     "output_type": "execute_result"
    }
   ],
   "source": [
    "import pandas as pd\n",
    "import matplotlib.pyplot as plt\n",
    "\n",
    "df = pd.read_csv('exemplo2.csv')\n",
    "df"
   ]
  },
  {
   "cell_type": "markdown",
   "id": "3fe686b8",
   "metadata": {},
   "source": [
    "## Separando input (X) e output (y)"
   ]
  },
  {
   "cell_type": "code",
   "execution_count": 8,
   "id": "d90146bc",
   "metadata": {},
   "outputs": [],
   "source": [
    "X = df.drop('risco', axis='columns')\n",
    "y = df['risco']\n"
   ]
  },
  {
   "cell_type": "code",
   "execution_count": 9,
   "id": "d8c095e1",
   "metadata": {},
   "outputs": [
    {
     "data": {
      "text/plain": [
       "KNeighborsClassifier(n_neighbors=3)"
      ]
     },
     "execution_count": 9,
     "metadata": {},
     "output_type": "execute_result"
    }
   ],
   "source": [
    "from sklearn.neighbors import KNeighborsClassifier\n",
    "\n",
    "knn = KNeighborsClassifier(n_neighbors=3)\n",
    "knn.fit(X, y) #função fit serve pra treinar o algoritmo"
   ]
  },
  {
   "cell_type": "code",
   "execution_count": 10,
   "id": "63a6b9ad",
   "metadata": {},
   "outputs": [],
   "source": [
    "from sklearn.model_selection import train_test_split\n",
    "from sklearn.metrics import accuracy_score"
   ]
  },
  {
   "cell_type": "code",
   "execution_count": 11,
   "id": "f054c980",
   "metadata": {},
   "outputs": [],
   "source": [
    "X_train, X_test, y_train, y_test = train_test_split(X, y, train_size=2/3)"
   ]
  },
  {
   "cell_type": "code",
   "execution_count": 12,
   "id": "955e6244",
   "metadata": {},
   "outputs": [
    {
     "data": {
      "text/plain": [
       "(1666, 2)"
      ]
     },
     "execution_count": 12,
     "metadata": {},
     "output_type": "execute_result"
    }
   ],
   "source": [
    "X_train.shape"
   ]
  },
  {
   "cell_type": "code",
   "execution_count": 13,
   "id": "836f725f",
   "metadata": {},
   "outputs": [
    {
     "data": {
      "text/plain": [
       "(834, 2)"
      ]
     },
     "execution_count": 13,
     "metadata": {},
     "output_type": "execute_result"
    }
   ],
   "source": [
    "X_test.shape"
   ]
  },
  {
   "cell_type": "code",
   "execution_count": 14,
   "id": "0c02669f",
   "metadata": {},
   "outputs": [
    {
     "data": {
      "text/plain": [
       "KNeighborsClassifier(n_neighbors=3)"
      ]
     },
     "execution_count": 14,
     "metadata": {},
     "output_type": "execute_result"
    }
   ],
   "source": [
    "knn2 = KNeighborsClassifier(n_neighbors=3)\n",
    "knn2.fit(X_train, y_train)"
   ]
  },
  {
   "cell_type": "code",
   "execution_count": 15,
   "id": "09dfb80f",
   "metadata": {},
   "outputs": [
    {
     "data": {
      "text/plain": [
       "0.7937649880095923"
      ]
     },
     "execution_count": 15,
     "metadata": {},
     "output_type": "execute_result"
    }
   ],
   "source": [
    "accuracy_score(y_test, knn2.predict(X_test))"
   ]
  },
  {
   "cell_type": "markdown",
   "id": "eaf65971",
   "metadata": {},
   "source": [
    "## Pré-processamento para melhorar o desempenho do nosso classificador"
   ]
  },
  {
   "cell_type": "code",
   "execution_count": 16,
   "id": "28b0ed6b",
   "metadata": {},
   "outputs": [
    {
     "data": {
      "text/plain": [
       "array([[0.05586473, 0.06720224],\n",
       "       [0.06499436, 0.09938945],\n",
       "       [0.12872564, 0.11339923],\n",
       "       ...,\n",
       "       [0.85424954, 0.36522222],\n",
       "       [0.62401886, 0.42781034],\n",
       "       [0.61473291, 0.54031447]])"
      ]
     },
     "execution_count": 16,
     "metadata": {},
     "output_type": "execute_result"
    }
   ],
   "source": [
    "from sklearn.preprocessing import MinMaxScaler\n",
    "\n",
    "normalizador = MinMaxScaler()\n",
    "X_norm = normalizador.fit_transform(X)\n",
    "X_norm"
   ]
  },
  {
   "cell_type": "code",
   "execution_count": 17,
   "id": "da8bffe1",
   "metadata": {},
   "outputs": [],
   "source": [
    "X_train, X_test, y_train, y_test = train_test_split(X_norm, y, train_size=2/3)"
   ]
  },
  {
   "cell_type": "code",
   "execution_count": 18,
   "id": "2c44a9da",
   "metadata": {},
   "outputs": [
    {
     "data": {
      "text/plain": [
       "0.8465227817745803"
      ]
     },
     "execution_count": 18,
     "metadata": {},
     "output_type": "execute_result"
    }
   ],
   "source": [
    "knn3 = KNeighborsClassifier(n_neighbors=3)\n",
    "knn3.fit(X_train, y_train)\n",
    "accuracy_score(y_test, knn3.predict(X_test))"
   ]
  },
  {
   "cell_type": "code",
   "execution_count": 19,
   "id": "c2192783",
   "metadata": {},
   "outputs": [],
   "source": [
    "from sklearn.svm import SVC\n"
   ]
  },
  {
   "cell_type": "markdown",
   "id": "34ad7344",
   "metadata": {},
   "source": [
    "### Importações comuns no ScikitLearn\n",
    "\n",
    "- from sklearn.preprocessing import MinMaxScaler \n",
    "- from sklearn.neighbors import KNeighborsClassifier\n",
    "- from sklearn.model_selection import train_test_split\n",
    "- from sklearn.metrics import accuracy_score\n"
   ]
  },
  {
   "cell_type": "code",
   "execution_count": 20,
   "id": "132379b4",
   "metadata": {},
   "outputs": [],
   "source": [
    "from sklearn.preprocessing import MinMaxScaler\n",
    "from sklearn.model_selection import train_test_split\n",
    "from sklearn.metrics import accuracy_score"
   ]
  },
  {
   "cell_type": "code",
   "execution_count": 27,
   "id": "5f24a510",
   "metadata": {},
   "outputs": [
    {
     "data": {
      "text/plain": [
       "SVC()"
      ]
     },
     "execution_count": 27,
     "metadata": {},
     "output_type": "execute_result"
    }
   ],
   "source": [
    "svc = SVC()\n",
    "svc"
   ]
  },
  {
   "cell_type": "code",
   "execution_count": 28,
   "id": "24dd6dbc",
   "metadata": {},
   "outputs": [
    {
     "data": {
      "text/plain": [
       "0.8381294964028777"
      ]
     },
     "execution_count": 28,
     "metadata": {},
     "output_type": "execute_result"
    }
   ],
   "source": [
    "svc.fit(X_train, y_train)\n",
    "\n",
    "accuracy_score(y_test, svc.predict(X_test))"
   ]
  },
  {
   "cell_type": "code",
   "execution_count": null,
   "id": "33bb34bb",
   "metadata": {},
   "outputs": [],
   "source": []
  }
 ],
 "metadata": {
  "kernelspec": {
   "display_name": "Python 3 (ipykernel)",
   "language": "python",
   "name": "python3"
  },
  "language_info": {
   "codemirror_mode": {
    "name": "ipython",
    "version": 3
   },
   "file_extension": ".py",
   "mimetype": "text/x-python",
   "name": "python",
   "nbconvert_exporter": "python",
   "pygments_lexer": "ipython3",
   "version": "3.9.7"
  }
 },
 "nbformat": 4,
 "nbformat_minor": 5
}
